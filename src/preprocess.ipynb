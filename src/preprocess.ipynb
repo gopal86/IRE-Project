{
 "cells": [
  {
   "cell_type": "code",
   "execution_count": 1,
   "metadata": {},
   "outputs": [],
   "source": [
    "import csv\n",
    "from sklearn.model_selection import train_test_split\n"
   ]
  },
  {
   "cell_type": "code",
   "execution_count": 2,
   "metadata": {},
   "outputs": [],
   "source": [
    "def read_file(filename):\n",
    "    '''\n",
    "        The dataset has 3 fields (ID, Text, Labels)\n",
    "\n",
    "        Two of the fields(Text and Labels) are put into seperate files under the ../train folder.\n",
    "        - ../train/comments.txt\n",
    "        - ../train/labels.txt\n",
    "\n",
    "        Further, the comments.txt will only contain the text from the current comment.\n",
    "    '''\n",
    "\n",
    "    global data\n",
    "    data = list()\n",
    "\n",
    "    labels = {\"Other Hateful Sarcasm\":0, \"Racist Sarcasm\":1, \"Sexist Sarcasm\":2,\n",
    "            \"None of the above (Neutral + Only sarcastic + Only hateful)\":3}\n",
    "\n",
    "    comments_writer = open(\"../train/comments.txt\", \"a\")\n",
    "    labels_writer = open(\"../train/labels.txt\", \"a\")\n",
    "\n",
    "    with open(filename) as csv_file:\n",
    "        csv_reader = csv.reader(csv_file, delimiter='\\t')\n",
    "        for row in csv_reader:\n",
    "            text = row[1]\n",
    "            comment = text.split(\"Comment:\")[-1]\n",
    "            label = labels[row[2]]\n",
    "            data.append((comment, str(label)))\n",
    "            comments_writer.write(comment + \"\\n\")\n",
    "            labels_writer.write(str(label) + \"\\n\")\n",
    "\n"
   ]
  },
  {
   "cell_type": "code",
   "execution_count": 4,
   "metadata": {},
   "outputs": [],
   "source": [
    "if __name__ == \"__main__\":\n",
    "    read_file(\"../dataset.csv\")\n",
    "    "
   ]
  },
  {
   "cell_type": "code",
   "execution_count": null,
   "metadata": {},
   "outputs": [],
   "source": []
  }
 ],
 "metadata": {
  "kernelspec": {
   "display_name": "Python 2",
   "language": "python",
   "name": "python2"
  },
  "language_info": {
   "codemirror_mode": {
    "name": "ipython",
    "version": 2
   },
   "file_extension": ".py",
   "mimetype": "text/x-python",
   "name": "python",
   "nbconvert_exporter": "python",
   "pygments_lexer": "ipython2",
   "version": "2.7.15rc1"
  }
 },
 "nbformat": 4,
 "nbformat_minor": 2
}
